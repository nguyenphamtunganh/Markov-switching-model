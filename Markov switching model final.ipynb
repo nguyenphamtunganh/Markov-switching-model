{
 "cells": [
  {
   "cell_type": "code",
   "execution_count": 331,
   "metadata": {},
   "outputs": [
    {
     "data": {
      "text/html": [
       "<div>\n",
       "<style scoped>\n",
       "    .dataframe tbody tr th:only-of-type {\n",
       "        vertical-align: middle;\n",
       "    }\n",
       "\n",
       "    .dataframe tbody tr th {\n",
       "        vertical-align: top;\n",
       "    }\n",
       "\n",
       "    .dataframe thead th {\n",
       "        text-align: right;\n",
       "    }\n",
       "</style>\n",
       "<table border=\"1\" class=\"dataframe\">\n",
       "  <thead>\n",
       "    <tr style=\"text-align: right;\">\n",
       "      <th></th>\n",
       "      <th>Date</th>\n",
       "      <th>Value</th>\n",
       "      <th>Volume</th>\n",
       "    </tr>\n",
       "  </thead>\n",
       "  <tbody>\n",
       "    <tr>\n",
       "      <th>0</th>\n",
       "      <td>02.01.1990</td>\n",
       "      <td>1814.38</td>\n",
       "      <td>0</td>\n",
       "    </tr>\n",
       "    <tr>\n",
       "      <th>1</th>\n",
       "      <td>03.01.1990</td>\n",
       "      <td>1869.66</td>\n",
       "      <td>0</td>\n",
       "    </tr>\n",
       "    <tr>\n",
       "      <th>2</th>\n",
       "      <td>04.01.1990</td>\n",
       "      <td>1835.88</td>\n",
       "      <td>0</td>\n",
       "    </tr>\n",
       "    <tr>\n",
       "      <th>3</th>\n",
       "      <td>05.01.1990</td>\n",
       "      <td>1820.00</td>\n",
       "      <td>0</td>\n",
       "    </tr>\n",
       "    <tr>\n",
       "      <th>4</th>\n",
       "      <td>08.01.1990</td>\n",
       "      <td>1843.24</td>\n",
       "      <td>0</td>\n",
       "    </tr>\n",
       "  </tbody>\n",
       "</table>\n",
       "</div>"
      ],
      "text/plain": [
       "         Date    Value Volume\n",
       "0  02.01.1990  1814.38      0\n",
       "1  03.01.1990  1869.66      0\n",
       "2  04.01.1990  1835.88      0\n",
       "3  05.01.1990  1820.00      0\n",
       "4  08.01.1990  1843.24      0"
      ]
     },
     "execution_count": 331,
     "metadata": {},
     "output_type": "execute_result"
    }
   ],
   "source": [
    "import numpy as np\n",
    "import pandas as pd\n",
    "\n",
    "data = pd.read_csv('time_series_dax.csv',sep = ';')\n",
    "data.head()"
   ]
  },
  {
   "cell_type": "code",
   "execution_count": 332,
   "metadata": {},
   "outputs": [
    {
     "data": {
      "text/plain": [
       "array([1814.38, 1869.66, 1835.88, ..., 11270.67, 11391.78, 11417.09],\n",
       "      dtype=object)"
      ]
     },
     "execution_count": 332,
     "metadata": {},
     "output_type": "execute_result"
    }
   ],
   "source": [
    "data = np.array(data)\n",
    "data = data[0:,1]\n",
    "data"
   ]
  },
  {
   "cell_type": "code",
   "execution_count": 333,
   "metadata": {},
   "outputs": [
    {
     "data": {
      "text/plain": [
       "array([ 0.02986918, -0.01835905, -0.00820798, ...,  0.00801786,\n",
       "        0.01067924,  0.0022799 ])"
      ]
     },
     "execution_count": 333,
     "metadata": {},
     "output_type": "execute_result"
    }
   ],
   "source": [
    "data = data.astype(int)\n",
    "data1 = np.ediff1d(np.log(data))\n",
    "data1"
   ]
  },
  {
   "cell_type": "code",
   "execution_count": 315,
   "metadata": {},
   "outputs": [
    {
     "data": {
      "image/png": "[encoded data removed]",
      "text/plain": [
       "<Figure size 432x288 with 1 Axes>"
      ]
     },
     "metadata": {},
     "output_type": "display_data"
    }
   ],
   "source": [
    "import matplotlib.pyplot as plt\n",
    "plt.plot(data1)\n",
    "plt.show()"
   ]
  },
  {
   "cell_type": "code",
   "execution_count": 334,
   "metadata": {},
   "outputs": [],
   "source": [
    "# We have the sample size of T\n",
    "T = len(data1)\n",
    "# Initialize observed vectors y and x where y = (y2,y3,...yT) and x = (y1,y2,...yT-1)\n",
    "y = data1.reshape(T,1)\n",
    "y = y[1:]"
   ]
  },
  {
   "cell_type": "code",
   "execution_count": 335,
   "metadata": {},
   "outputs": [
    {
     "data": {
      "text/plain": [
       "array([1.        , 0.01067924])"
      ]
     },
     "execution_count": 335,
     "metadata": {},
     "output_type": "execute_result"
    }
   ],
   "source": [
    "x = np.ones((2,T-1))\n",
    "x[1,:] = data1[:T-1]\n",
    "x[:,-1]"
   ]
  },
  {
   "cell_type": "code",
   "execution_count": 365,
   "metadata": {},
   "outputs": [],
   "source": [
    "## Initialize \n",
    "A = np.zeros((2,T)) # to save the probability P(st|yt)\n",
    "B = np.zeros((2,T)) # to save the probability P(s(t+1)|yt)\n",
    "C = np.zeros((2,T)) # to save the smoothed probability P(st|yT)\n",
    "\n",
    "# Guess the initial parameters\n",
    "beta1 = np.array([0,12])\n",
    "beta2 = np.array([0,15])\n",
    "sigma1 = 9\n",
    "sigma2 = 4\n",
    "P = np.array([[0.3,0.6],[0.7,0.4]]) # the transition matrix\n",
    "A[:,0] = [0.6,0.4] "
   ]
  },
  {
   "cell_type": "code",
   "execution_count": 366,
   "metadata": {},
   "outputs": [],
   "source": [
    "beta1 = beta1.reshape(2,1)\n",
    "beta2 = beta2.reshape(2,1)\n",
    "\n",
    "def normal_density(sigma,beta,y,x):\n",
    "    result = 1/(np.sqrt(2*np.pi)*sigma) * np.exp(-(y-np.matmul(np.transpose(x),beta))**2/(2*sigma**2))\n",
    "    return result"
   ]
  },
  {
   "cell_type": "code",
   "execution_count": 367,
   "metadata": {},
   "outputs": [],
   "source": [
    "# Find the parameters beta1 and beta2 by OLS regression of y_tilde1 and 2 on x_tilde1 and 2 respectively\n",
    "# beta = (X'X)^-1 * (X'Y)\n",
    "\n",
    "def ols_regression(y,x,smooth_prob):\n",
    "    y_tilde = y * np.sqrt(smooth_prob[1:])\n",
    "    x_tilde = np.transpose(x) * np.sqrt(smooth_prob[:T-1])\n",
    "    beta = np.matmul(np.linalg.inv(np.matmul(np.transpose(x_tilde),x_tilde)) , np.matmul(np.transpose(x_tilde),y_tilde))\n",
    "    return beta\n",
    "    "
   ]
  },
  {
   "cell_type": "code",
   "execution_count": 368,
   "metadata": {},
   "outputs": [],
   "source": [
    "# Then find sigma by equation (8) and (9) in the seminar paper\n",
    "\n",
    "def sigma(y,x,smooth_prob,beta):\n",
    "    y_tilde = y * np.sqrt(smooth_prob[1:])\n",
    "    x_tilde = np.transpose(x) * np.sqrt(smooth_prob[:T-1])\n",
    "    variance = sum((y_tilde - np.matmul(x_tilde,beta))**2) / sum(smooth_prob[1:])\n",
    "    sigma = np.sqrt(variance)\n",
    "    return sigma"
   ]
  },
  {
   "cell_type": "code",
   "execution_count": 369,
   "metadata": {},
   "outputs": [],
   "source": [
    "## Update the parameters\n",
    "\n",
    "for i in range(0,100):\n",
    "    \n",
    "# Calculate the smoothed probability and filltering\n",
    "\n",
    "    for t in range(0,T-1):\n",
    "        B[:,[t]] = np.matmul(P, A[:,[t]])\n",
    "        n = np.array([normal_density(sigma1,beta1,y[t],x[:,t]) , normal_density(sigma2,beta2,y[t],x[:,t])])\n",
    "        A[:,[t+1]] = B[:,[t]] * n / sum(B[:,[t]] * n)\n",
    "    \n",
    "    C[:,T-1] = A[:,T-1]\n",
    "\n",
    "    for t in range(0,T-1)[::-1]:\n",
    "        temp1 = np.matmul(np.transpose(P) , C[:,[t+1]]/B[:,[t]] )\n",
    "        C[:,[t]] = A[:,[t]] * temp1\n",
    "\n",
    "    C1 = C[0,:].reshape(T,1) # convert 1d array to 2d array \n",
    "    C2 = C[1,:].reshape(T,1)\n",
    "    A1 = A[0,:].reshape(T,1) # convert 1d array to 2d array \n",
    "    A2 = A[1,:].reshape(T,1)\n",
    "    B1 = B[0,:].reshape(T,1) # convert 1d array to 2d array \n",
    "    B2 = B[1,:].reshape(T,1)\n",
    "\n",
    "# parameters beta1 and beta2\n",
    "\n",
    "    beta1 = ols_regression(y,x,C1)\n",
    "    beta2 = ols_regression(y,x,C2)\n",
    "\n",
    "# Find sigma\n",
    "\n",
    "    sigma1 = sigma(y,x,C1,beta1)\n",
    "    sigma2 = sigma(y,x,C2,beta2)\n",
    "\n",
    "# update the transition probability using equation (4) and (5)\n",
    "\n",
    "    numerator1 = sum(C1[1:] * A1[:T-1] / B1[:T-1]) * P[0,0]\n",
    "    denominator1 = sum(C1[:T-1])\n",
    "    P[0,0] = numerator1/denominator1\n",
    "    P[1,0] = 1 - P[0,0]\n",
    "    numerator2 = sum(C2[1:] * A2[:T-1] / B2[:T-1]) * P[1,1]\n",
    "    denominator2 = sum(C2[:T-1])\n",
    "    P[1,1] = numerator2/denominator2\n",
    "    P[0,1] = 1 - P[1,1]\n",
    "\n",
    "# update the probability of the initial unobserved states P(s1|y1) via equation (10)\n",
    "\n",
    "    A[:,0] = C[:,0]"
   ]
  },
  {
   "cell_type": "code",
   "execution_count": 370,
   "metadata": {},
   "outputs": [
    {
     "data": {
      "text/plain": [
       "array([[0.00086171],\n",
       "       [0.02436007]])"
      ]
     },
     "execution_count": 370,
     "metadata": {},
     "output_type": "execute_result"
    }
   ],
   "source": [
    "beta1"
   ]
  },
  {
   "cell_type": "code",
   "execution_count": 371,
   "metadata": {},
   "outputs": [
    {
     "data": {
      "text/plain": [
       "array([0.00869089])"
      ]
     },
     "execution_count": 371,
     "metadata": {},
     "output_type": "execute_result"
    }
   ],
   "source": [
    "sigma1"
   ]
  },
  {
   "cell_type": "code",
   "execution_count": 372,
   "metadata": {},
   "outputs": [
    {
     "data": {
      "text/plain": [
       "array([[-0.00118018],\n",
       "       [-0.02427206]])"
      ]
     },
     "execution_count": 372,
     "metadata": {},
     "output_type": "execute_result"
    }
   ],
   "source": [
    "beta2"
   ]
  },
  {
   "cell_type": "code",
   "execution_count": 373,
   "metadata": {},
   "outputs": [
    {
     "data": {
      "text/plain": [
       "array([0.02138522])"
      ]
     },
     "execution_count": 373,
     "metadata": {},
     "output_type": "execute_result"
    }
   ],
   "source": [
    "sigma2"
   ]
  },
  {
   "cell_type": "code",
   "execution_count": 374,
   "metadata": {},
   "outputs": [
    {
     "data": {
      "text/plain": [
       "array([[2.84374635e-52, 6.58302143e-03, 3.31206033e-02, ...,\n",
       "        5.94406648e-01, 6.38363114e-01, 6.63617415e-01],\n",
       "       [1.00000000e+00, 9.93416979e-01, 9.66879397e-01, ...,\n",
       "        4.05593352e-01, 3.61636886e-01, 3.36382585e-01]])"
      ]
     },
     "execution_count": 374,
     "metadata": {},
     "output_type": "execute_result"
    }
   ],
   "source": [
    "C"
   ]
  },
  {
   "cell_type": "code",
   "execution_count": 375,
   "metadata": {},
   "outputs": [
    {
     "data": {
      "image/png": "[encoded data removed]",
      "text/plain": [
       "<Figure size 432x288 with 1 Axes>"
      ]
     },
     "metadata": {},
     "output_type": "display_data"
    }
   ],
   "source": [
    "plt.plot(C[0,:])\n",
    "plt.show()"
   ]
  },
  {
   "cell_type": "code",
   "execution_count": 376,
   "metadata": {},
   "outputs": [
    {
     "data": {
      "image/png": "[encoded data removed]",
      "text/plain": [
       "<Figure size 432x288 with 1 Axes>"
      ]
     },
     "metadata": {},
     "output_type": "display_data"
    }
   ],
   "source": [
    "plt.plot(A[0,:])\n",
    "plt.show()"
   ]
  },
  {
   "cell_type": "code",
   "execution_count": null,
   "metadata": {},
   "outputs": [],
   "source": []
  }
 ],
 "metadata": {
  "kernelspec": {
   "display_name": "Python 3",
   "language": "python",
   "name": "python3"
  },
  "language_info": {
   "codemirror_mode": {
    "name": "ipython",
    "version": 3
   },
   "file_extension": ".py",
   "mimetype": "text/x-python",
   "name": "python",
   "nbconvert_exporter": "python",
   "pygments_lexer": "ipython3",
   "version": "3.6.5"
  }
 },
 "nbformat": 4,
 "nbformat_minor": 2
}
